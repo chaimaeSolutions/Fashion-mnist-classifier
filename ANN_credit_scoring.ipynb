{
 "cells": [
  {
   "cell_type": "markdown",
   "metadata": {},
   "source": [
    "L'objectif est de construire un modèle de réseau de neurones artificiel (ANN) capable de prédire si un client est solvable ou non, en se basant sur des données financières et démographiques, des données classiques de scoring de crédit pour prédire la probabilité de remboursement d’un prêt."
   ]
  },
  {
   "cell_type": "markdown",
   "metadata": {},
   "source": [
    "### Prérequis\n",
    "- Connaissances de base en machine learning et en statistiques.\n",
    "- Familiarité avec les réseaux de neurones (perceptrons et ANN).\n",
    "- Python et TensorFlow/Keras installés."
   ]
  },
  {
   "cell_type": "markdown",
   "metadata": {},
   "source": [
    "### Dataset\n",
    "Données suggérées : German Credit Data (GCD) ou Statlog (German Credit Data), un dataset souvent utilisé pour prédire la solvabilité de clients en utilisant des attributs financiers et personnels. Ce jeu de données est disponible sur UCI Machine Learning Repository.\n",
    "\n",
    "Caractéristiques : Les données comprennent 20 attributs, tels que le montant du crédit, la durée, l'âge, l'historique de crédit, l'état civil, l'emploi, etc.\n",
    "Classes : Deux classes de sortie : \"solvable\" (1) et \"non solvable\" (0)."
   ]
  },
  {
   "cell_type": "markdown",
   "metadata": {},
   "source": [
    "1. Préparation des données  "
   ]
  },
  {
   "cell_type": "markdown",
   "metadata": {},
   "source": [
    "\n",
    " 1.1 Charger le dataset et examiner ses caractéristiques (types de données, valeurs manquantes, distribution des classes).  \n",
    " 1.2 Encodage des variables catégorielles en valeurs numériques (par exemple, One-Hot Encoding pour les variables comme l’état civil).  \n",
    " 1.3 Normalisation des données numériques (par exemple, montant du crédit, durée, etc.) pour que chaque feature soit sur une même échelle.  \n",
    " 1.4 Diviser les données en ensembles d’entraînement et de test (80% pour l’entraînement, 20% pour le test)."
   ]
  },
  {
   "cell_type": "code",
   "execution_count": null,
   "metadata": {},
   "outputs": [],
   "source": [
    "import pandas as pd\n",
    "\n",
    "# Define column names from german.doc file documentation\n",
    "columns = [\n",
    "    \"Status of existing checking account\", \"Duration in month\", \"Credit history\", \n",
    "    \"Purpose\", \"Credit amount\", \"Savings account/bonds\", \"Present employment since\", \n",
    "    \"Installment rate in percentage of disposable income\", \"Personal status and sex\", \n",
    "    \"Other debtors / guarantors\", \"Present residence since\", \"Property\", \n",
    "    \"Age in years\", \"Other installment plans\", \"Housing\", \n",
    "    \"Number of existing credits at this bank\", \"Job\", \"Number of people being liable to provide maintenance for\", \n",
    "    \"Telephone\", \"foreign worker\", \"Good/Bad\"\n",
    "]\n",
    "\n",
    "# Load the data\n",
    "data = pd.read_csv(\"german.data\",  header=None, names=columns)\n",
    "\n",
    "# Save as CSV\n",
    "data.to_csv(\"german_credit_data.csv\", index=False)\n"
   ]
  },
  {
   "cell_type": "code",
   "execution_count": 13,
   "metadata": {},
   "outputs": [],
   "source": [
    "import pandas as pd\n",
    "from sklearn.model_selection import train_test_split\n",
    "from sklearn.preprocessing import StandardScaler\n",
    "from sklearn.preprocessing import OneHotEncoder\n",
    "\n",
    "# Charger le dataset\n",
    "data = pd.read_csv('german_credit_data.csv')\n",
    "\n",
    "\n",
    "\n"
   ]
  },
  {
   "cell_type": "code",
   "execution_count": 14,
   "metadata": {},
   "outputs": [
    {
     "data": {
      "text/plain": [
       "<bound method NDFrame.head of                    Status of existing checking account  Duration in month  \\\n",
       "0    A11 6 A34 A43 1169 A65 A75 4 A93 A101 4 A121 6...                NaN   \n",
       "1    A12 48 A32 A43 5951 A61 A73 2 A92 A101 2 A121 ...                NaN   \n",
       "2    A14 12 A34 A46 2096 A61 A74 2 A93 A101 3 A121 ...                NaN   \n",
       "3    A11 42 A32 A42 7882 A61 A74 2 A93 A103 4 A122 ...                NaN   \n",
       "4    A11 24 A33 A40 4870 A61 A73 3 A93 A101 4 A124 ...                NaN   \n",
       "..                                                 ...                ...   \n",
       "995  A14 12 A32 A42 1736 A61 A74 3 A92 A101 4 A121 ...                NaN   \n",
       "996  A11 30 A32 A41 3857 A61 A73 4 A91 A101 4 A122 ...                NaN   \n",
       "997  A14 12 A32 A43 804 A61 A75 4 A93 A101 4 A123 3...                NaN   \n",
       "998  A11 45 A32 A43 1845 A61 A73 4 A93 A101 4 A124 ...                NaN   \n",
       "999  A12 45 A34 A41 4576 A62 A71 3 A93 A101 4 A123 ...                NaN   \n",
       "\n",
       "     Credit history  Purpose  Credit amount  Savings account/bonds  \\\n",
       "0               NaN      NaN            NaN                    NaN   \n",
       "1               NaN      NaN            NaN                    NaN   \n",
       "2               NaN      NaN            NaN                    NaN   \n",
       "3               NaN      NaN            NaN                    NaN   \n",
       "4               NaN      NaN            NaN                    NaN   \n",
       "..              ...      ...            ...                    ...   \n",
       "995             NaN      NaN            NaN                    NaN   \n",
       "996             NaN      NaN            NaN                    NaN   \n",
       "997             NaN      NaN            NaN                    NaN   \n",
       "998             NaN      NaN            NaN                    NaN   \n",
       "999             NaN      NaN            NaN                    NaN   \n",
       "\n",
       "     Present employment since  \\\n",
       "0                         NaN   \n",
       "1                         NaN   \n",
       "2                         NaN   \n",
       "3                         NaN   \n",
       "4                         NaN   \n",
       "..                        ...   \n",
       "995                       NaN   \n",
       "996                       NaN   \n",
       "997                       NaN   \n",
       "998                       NaN   \n",
       "999                       NaN   \n",
       "\n",
       "     Installment rate in percentage of disposable income  \\\n",
       "0                                                  NaN     \n",
       "1                                                  NaN     \n",
       "2                                                  NaN     \n",
       "3                                                  NaN     \n",
       "4                                                  NaN     \n",
       "..                                                 ...     \n",
       "995                                                NaN     \n",
       "996                                                NaN     \n",
       "997                                                NaN     \n",
       "998                                                NaN     \n",
       "999                                                NaN     \n",
       "\n",
       "     Personal status and sex  Other debtors / guarantors  ...  Property  \\\n",
       "0                        NaN                         NaN  ...       NaN   \n",
       "1                        NaN                         NaN  ...       NaN   \n",
       "2                        NaN                         NaN  ...       NaN   \n",
       "3                        NaN                         NaN  ...       NaN   \n",
       "4                        NaN                         NaN  ...       NaN   \n",
       "..                       ...                         ...  ...       ...   \n",
       "995                      NaN                         NaN  ...       NaN   \n",
       "996                      NaN                         NaN  ...       NaN   \n",
       "997                      NaN                         NaN  ...       NaN   \n",
       "998                      NaN                         NaN  ...       NaN   \n",
       "999                      NaN                         NaN  ...       NaN   \n",
       "\n",
       "     Age in years  Other installment plans  Housing  \\\n",
       "0             NaN                      NaN      NaN   \n",
       "1             NaN                      NaN      NaN   \n",
       "2             NaN                      NaN      NaN   \n",
       "3             NaN                      NaN      NaN   \n",
       "4             NaN                      NaN      NaN   \n",
       "..            ...                      ...      ...   \n",
       "995           NaN                      NaN      NaN   \n",
       "996           NaN                      NaN      NaN   \n",
       "997           NaN                      NaN      NaN   \n",
       "998           NaN                      NaN      NaN   \n",
       "999           NaN                      NaN      NaN   \n",
       "\n",
       "     Number of existing credits at this bank  Job  \\\n",
       "0                                        NaN  NaN   \n",
       "1                                        NaN  NaN   \n",
       "2                                        NaN  NaN   \n",
       "3                                        NaN  NaN   \n",
       "4                                        NaN  NaN   \n",
       "..                                       ...  ...   \n",
       "995                                      NaN  NaN   \n",
       "996                                      NaN  NaN   \n",
       "997                                      NaN  NaN   \n",
       "998                                      NaN  NaN   \n",
       "999                                      NaN  NaN   \n",
       "\n",
       "     Number of people being liable to provide maintenance for  Telephone  \\\n",
       "0                                                  NaN               NaN   \n",
       "1                                                  NaN               NaN   \n",
       "2                                                  NaN               NaN   \n",
       "3                                                  NaN               NaN   \n",
       "4                                                  NaN               NaN   \n",
       "..                                                 ...               ...   \n",
       "995                                                NaN               NaN   \n",
       "996                                                NaN               NaN   \n",
       "997                                                NaN               NaN   \n",
       "998                                                NaN               NaN   \n",
       "999                                                NaN               NaN   \n",
       "\n",
       "     foreign worker  Good/Bad  \n",
       "0               NaN       NaN  \n",
       "1               NaN       NaN  \n",
       "2               NaN       NaN  \n",
       "3               NaN       NaN  \n",
       "4               NaN       NaN  \n",
       "..              ...       ...  \n",
       "995             NaN       NaN  \n",
       "996             NaN       NaN  \n",
       "997             NaN       NaN  \n",
       "998             NaN       NaN  \n",
       "999             NaN       NaN  \n",
       "\n",
       "[1000 rows x 21 columns]>"
      ]
     },
     "execution_count": 14,
     "metadata": {},
     "output_type": "execute_result"
    }
   ],
   "source": [
    "data.head"
   ]
  },
  {
   "cell_type": "code",
   "execution_count": null,
   "metadata": {},
   "outputs": [],
   "source": [
    "# Encodage des variables catégorielles\n",
    "data = pd.get_dummies(data, drop_first=True)\n"
   ]
  },
  {
   "cell_type": "code",
   "execution_count": null,
   "metadata": {},
   "outputs": [],
   "source": [
    "# Séparation des données\n",
    "X = data.drop('Good/Bad', axis=1)\n",
    "y = data['Good/Bad']\n",
    "\n"
   ]
  },
  {
   "cell_type": "code",
   "execution_count": null,
   "metadata": {},
   "outputs": [],
   "source": [
    "# Normalisation\n",
    "scaler = StandardScaler()\n",
    "X_scaled = scaler.fit_transform(X)\n",
    "\n",
    "# Division des données\n",
    "X_train, X_test, y_train, y_test = train_test_split(X_scaled, y, test_size=0.2, random_state=42)"
   ]
  },
  {
   "cell_type": "code",
   "execution_count": null,
   "metadata": {},
   "outputs": [],
   "source": [
    "print(X_train.shape[1])"
   ]
  },
  {
   "cell_type": "code",
   "execution_count": null,
   "metadata": {},
   "outputs": [],
   "source": [
    "X.shape"
   ]
  },
  {
   "cell_type": "markdown",
   "metadata": {},
   "source": [
    "2. Création du Modèle de Réseau de Neurones"
   ]
  },
  {
   "cell_type": "markdown",
   "metadata": {},
   "source": [
    "1. Définir une architecture de base avec Keras en utilisant une couche d’entrée, des couches cachées, et une couche de sortie.\n",
    "2. Choisir les fonctions d'activation : par exemple, ReLU pour les couches cachées et Sigmoid pour la couche de sortie.\n",
    "3. Compiler le modèle avec une fonction de perte adaptée (binaire dans ce cas) et un optimiseur comme Adam."
   ]
  },
  {
   "cell_type": "code",
   "execution_count": null,
   "metadata": {},
   "outputs": [],
   "source": [
    "%pip install tensorflow"
   ]
  },
  {
   "cell_type": "code",
   "execution_count": null,
   "metadata": {},
   "outputs": [],
   "source": [
    "import tensorflow as tf\n",
    "mnist = tf.keras.datasets.mnist"
   ]
  },
  {
   "cell_type": "code",
   "execution_count": null,
   "metadata": {},
   "outputs": [],
   "source": [
    "!python -m ensurepip --upgrade"
   ]
  },
  {
   "cell_type": "code",
   "execution_count": null,
   "metadata": {},
   "outputs": [],
   "source": [
    "%pip install --upgrade setuptools\n"
   ]
  },
  {
   "cell_type": "code",
   "execution_count": null,
   "metadata": {},
   "outputs": [],
   "source": [
    "import tensorflow as tf\n",
    "print(\"TensorFlow version:\", tf.__version__)"
   ]
  },
  {
   "cell_type": "code",
   "execution_count": null,
   "metadata": {},
   "outputs": [],
   "source": [
    "import tensorflow as tf\n",
    "\n",
    "# Construction du modèle\n",
    "model = tf.keras.models.Sequential([\n",
    "    tf.keras.layers.Dense(units=1080, input_dim=X_train.shape[1], activation='relu'),\n",
    "    tf.keras.layers.Dense(32,  activation='relu'),    #define your own number of neurons\n",
    "    tf.keras.layers.Dense(16,  activation='relu'),    #define your own number of neurons\n",
    "    tf.keras.layers.Dense(1,  activation='sigmoid') #sortie binaire pour la solvabilité\n",
    "])\n",
    "\n",
    "# Compilation du modèle\n",
    "model.compile(optimizer='adam', loss='binary_crossentropy', metrics=['accuracy'])\n",
    "\n"
   ]
  },
  {
   "cell_type": "markdown",
   "metadata": {},
   "source": [
    "3. Entraînement et Validation du Modèle"
   ]
  },
  {
   "cell_type": "markdown",
   "metadata": {},
   "source": [
    "1. Entraîner le modèle en utilisant l’ensemble d’entraînement.\n",
    "2. Observer l’évolution de la précision et de la perte au cours des epochs.\n",
    "3. Évaluer le modèle sur l’ensemble de test et calculer la précision finale."
   ]
  },
  {
   "cell_type": "code",
   "execution_count": null,
   "metadata": {},
   "outputs": [],
   "source": [
    "# Entraînement du modèle\n",
    "history = model.fit(X_train, y_train, epochs=10, batch_size=10, validation_split=0.2)\n",
    "\n",
    "# Évaluation du modèle\n",
    "loss, accuracy = model.evaluate(X_test, y_test)\n",
    "print(f'Précision sur l’ensemble de test : {accuracy * 100:.2f}%')\n"
   ]
  },
  {
   "cell_type": "markdown",
   "metadata": {},
   "source": [
    "4. Analyse et Interprétation des Résultats"
   ]
  },
  {
   "cell_type": "markdown",
   "metadata": {},
   "source": [
    "1. Générer des matrices de confusion pour voir les vrais positifs et faux négatifs.\n",
    "2. Utiliser des métriques comme la précision, le rappel et la courbe ROC pour évaluer le modèle.\n",
    "3. Discuter de l'importance de la précision dans un contexte bancaire et des implications d’un mauvais classement (prêter à un client insolvable par erreur, par exemple)."
   ]
  },
  {
   "cell_type": "code",
   "execution_count": null,
   "metadata": {},
   "outputs": [],
   "source": [
    "from sklearn.metrics import confusion_matrix, classification_report, roc_auc_score\n",
    "\n",
    "# Prédictions sur l’ensemble de test\n",
    "y_pred = (model.predict(X_test) > 0.5).astype(\"int32\")\n",
    "\n",
    "# Matrice de confusion et rapport de classification\n",
    "print(confusion_matrix(y_test, y_pred))\n",
    "print(classification_report(y_test, y_pred))\n",
    "\n",
    "# Calcul de l’AUC pour voir la performance globale du modèle\n",
    "auc = roc_auc_score(y_test, y_pred)\n",
    "print(f'Score AUC : {auc:.2f}')\n"
   ]
  },
  {
   "cell_type": "markdown",
   "metadata": {},
   "source": [
    "5. Discussions et Améliorations du Modèle"
   ]
  },
  {
   "cell_type": "markdown",
   "metadata": {},
   "source": [
    "1. Utilisation d’un réseau plus profond ou de couches de dropout pour éviter le surapprentissage.\n",
    "2. Ajout de variables supplémentaires (d’autres indicateurs économiques).\n",
    "3. Collecte de plus de données pour une meilleure représentativité des clients.\n",
    "3. Essayer d'autres algorithmes (forêt aléatoire, machines à vecteurs de support) pour comparaison."
   ]
  }
 ],
 "metadata": {
  "kernelspec": {
   "display_name": "Python 3",
   "language": "python",
   "name": "python3"
  },
  "language_info": {
   "codemirror_mode": {
    "name": "ipython",
    "version": 3
   },
   "file_extension": ".py",
   "mimetype": "text/x-python",
   "name": "python",
   "nbconvert_exporter": "python",
   "pygments_lexer": "ipython3",
   "version": "3.12.2"
  }
 },
 "nbformat": 4,
 "nbformat_minor": 2
}
